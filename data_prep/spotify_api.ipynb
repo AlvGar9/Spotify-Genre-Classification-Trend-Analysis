{
 "cells": [
  {
   "cell_type": "code",
   "execution_count": 1,
   "id": "5ad7da51-5b2b-408c-b4b4-c00ea6f6f007",
   "metadata": {},
   "outputs": [
    {
     "ename": "ModuleNotFoundError",
     "evalue": "No module named 'spotipy'",
     "output_type": "error",
     "traceback": [
      "\u001b[1;31m---------------------------------------------------------------------------\u001b[0m",
      "\u001b[1;31mModuleNotFoundError\u001b[0m                       Traceback (most recent call last)",
      "Cell \u001b[1;32mIn[1], line 2\u001b[0m\n\u001b[0;32m      1\u001b[0m \u001b[38;5;28;01mimport\u001b[39;00m \u001b[38;5;21;01mpandas\u001b[39;00m \u001b[38;5;28;01mas\u001b[39;00m \u001b[38;5;21;01mpd\u001b[39;00m\n\u001b[1;32m----> 2\u001b[0m \u001b[38;5;28;01mimport\u001b[39;00m \u001b[38;5;21;01mspotipy\u001b[39;00m\n\u001b[0;32m      3\u001b[0m \u001b[38;5;28;01mfrom\u001b[39;00m \u001b[38;5;21;01mspotipy\u001b[39;00m\u001b[38;5;21;01m.\u001b[39;00m\u001b[38;5;21;01moauth2\u001b[39;00m \u001b[38;5;28;01mimport\u001b[39;00m SpotifyClientCredentials\n\u001b[0;32m      4\u001b[0m \u001b[38;5;28;01mimport\u001b[39;00m \u001b[38;5;21;01mos\u001b[39;00m\n",
      "\u001b[1;31mModuleNotFoundError\u001b[0m: No module named 'spotipy'"
     ]
    }
   ],
   "source": [
    "import pandas as pd\n",
    "import spotipy\n",
    "from spotipy.oauth2 import SpotifyClientCredentials\n",
    "import os\n",
    "from tqdm import tqdm\n",
    "import requests\n",
    "import time"
   ]
  },
  {
   "cell_type": "code",
   "execution_count": null,
   "id": "b4875ac8-e189-4602-bcd2-1fc075b5a67d",
   "metadata": {},
   "outputs": [
    {
     "name": "stdout",
     "output_type": "stream",
     "text": [
      "API is working. Retrieved artist information:\n",
      "Name: Taylor Swift\n",
      "Genres: ['pop']\n",
      "Popularity: 100\n"
     ]
    }
   ],
   "source": [
    "# Spotify API credentials (Must replace)\n",
    "CLIENT_ID = ''  # Spotify Client ID\n",
    "CLIENT_SECRET = ''  # Spotify Client Secret\n",
    "\n",
    "session = requests.Session()\n",
    "session.timeout = (5, 10)  # (connect timeout, read timeout) in seconds\n",
    "sp = spotipy.Spotify(auth_manager=SpotifyClientCredentials(client_id=CLIENT_ID, client_secret=CLIENT_SECRET), requests_session=session)\n",
    "\n",
    "# Check for the API\n",
    "try:\n",
    "    results = sp.search(q='artist:Taylor Swift', type='artist', limit=1)\n",
    "    if results['artists']['items']:\n",
    "        artist = results['artists']['items'][0]\n",
    "        print(\"API is working. Retrieved artist information:\")\n",
    "        print(f\"Name: {artist['name']}\")\n",
    "        print(f\"Genres: {artist['genres']}\")\n",
    "        print(f\"Popularity: {artist['popularity']}\")\n",
    "    else:\n",
    "        print(\"API is connected but no artist information was found.\")\n",
    "except Exception as e:\n",
    "    print(f\"API check failed: {e}\")"
   ]
  },
  {
   "cell_type": "code",
   "execution_count": null,
   "id": "10d400b3-0484-470a-8ddd-c72d9d37c7f7",
   "metadata": {},
   "outputs": [
    {
     "name": "stdout",
     "output_type": "stream",
     "text": [
      "(7457, 20)\n"
     ]
    }
   ],
   "source": [
    "# CSV file loading\n",
    "path = os.getcwd()\n",
    "data = pd.read_csv(path + r\"\\spotify_data\\Spotify_Dataset_V3.csv\", delimiter=\";\")\n",
    "data.drop_duplicates(subset = 'Title', inplace = True)\n",
    "print(data.shape)"
   ]
  },
  {
   "cell_type": "code",
   "execution_count": null,
   "id": "bcb795f4-cef5-4426-a7c2-82ad4e3ca88d",
   "metadata": {},
   "outputs": [
    {
     "name": "stderr",
     "output_type": "stream",
     "text": [
      "Processing songs:   2%|▏         | 6/373 [00:06<05:35,  1.09it/s]HTTP Error for GET to https://api.spotify.com/v1/artists/4bthk9UfsYUYdcFyqxmSUU with Params: {} returned 429 due to API rate limit exceeded\n"
     ]
    },
    {
     "name": "stdout",
     "output_type": "stream",
     "text": [
      "Rate limit reached. Retrying after 5 seconds.\n"
     ]
    },
    {
     "name": "stderr",
     "output_type": "stream",
     "text": [
      "Processing songs:   4%|▍         | 15/373 [00:17<04:55,  1.21it/s]HTTP Error for GET to https://api.spotify.com/v1/artists/2LIk90788K0zvyj2JJVwkJ with Params: {} returned 429 due to API rate limit exceeded\n"
     ]
    },
    {
     "name": "stdout",
     "output_type": "stream",
     "text": [
      "Rate limit reached. Retrying after 5 seconds.\n"
     ]
    },
    {
     "name": "stderr",
     "output_type": "stream",
     "text": [
      "Processing songs:   9%|▉         | 35/373 [00:35<05:09,  1.09it/s]HTTP Error for GET to https://api.spotify.com/v1/artists/6ZjFtWeHP9XN7FeKSUe80S with Params: {} returned 429 due to API rate limit exceeded\n"
     ]
    },
    {
     "name": "stdout",
     "output_type": "stream",
     "text": [
      "Rate limit reached. Retrying after 5 seconds.\n"
     ]
    },
    {
     "name": "stderr",
     "output_type": "stream",
     "text": [
      "Processing songs:  13%|█▎        | 49/373 [00:49<02:38,  2.05it/s]HTTP Error for GET to https://api.spotify.com/v1/artists/6FBDaR13swtiWwGhX1WQsP with Params: {} returned 429 due to API rate limit exceeded\n"
     ]
    },
    {
     "name": "stdout",
     "output_type": "stream",
     "text": [
      "Rate limit reached. Retrying after 5 seconds.\n"
     ]
    },
    {
     "name": "stderr",
     "output_type": "stream",
     "text": [
      "Processing songs:  20%|█▉        | 74/373 [01:06<02:26,  2.04it/s]HTTP Error for GET to https://api.spotify.com/v1/artists/2iDVt6mFbtbDEZG5ax0dTi with Params: {} returned 429 due to API rate limit exceeded\n"
     ]
    },
    {
     "name": "stdout",
     "output_type": "stream",
     "text": [
      "Rate limit reached. Retrying after 5 seconds.\n"
     ]
    },
    {
     "name": "stderr",
     "output_type": "stream",
     "text": [
      "Processing songs:  24%|██▎       | 88/373 [01:18<02:06,  2.26it/s]HTTP Error for GET to https://api.spotify.com/v1/artists/5FQ8tBUtIamA2hRtatrYUF with Params: {} returned 429 due to API rate limit exceeded\n"
     ]
    },
    {
     "name": "stdout",
     "output_type": "stream",
     "text": [
      "Rate limit reached. Retrying after 5 seconds.\n"
     ]
    },
    {
     "name": "stderr",
     "output_type": "stream",
     "text": [
      "Processing songs:  32%|███▏      | 121/373 [01:37<01:48,  2.32it/s]HTTP Error for GET to https://api.spotify.com/v1/artists/4MVyzYMgTwdP7Z49wAZHx0 with Params: {} returned 429 due to API rate limit exceeded\n"
     ]
    },
    {
     "name": "stdout",
     "output_type": "stream",
     "text": [
      "Rate limit reached. Retrying after 5 seconds.\n"
     ]
    },
    {
     "name": "stderr",
     "output_type": "stream",
     "text": [
      "Processing songs:  42%|████▏     | 157/373 [01:57<01:24,  2.55it/s]HTTP Error for GET to https://api.spotify.com/v1/artists/4rTv3Ejc7hKMtmoBOK1B4T with Params: {} returned 429 due to API rate limit exceeded\n"
     ]
    },
    {
     "name": "stdout",
     "output_type": "stream",
     "text": [
      "Rate limit reached. Retrying after 5 seconds.\n"
     ]
    },
    {
     "name": "stderr",
     "output_type": "stream",
     "text": [
      "Processing songs:  63%|██████▎   | 236/373 [02:28<00:40,  3.40it/s]HTTP Error for GET to https://api.spotify.com/v1/tracks/?ids=73IE87H0g2MBmdn41lkVto,0B3FovCVaGKS5w1FTidEUP,2qRN7PWiHRLprw4FpDeI9N,6woeVu3fVMflqen1t4N6pg,5lw8Mgb4LyhriPIC86gV6e,3npzogdOEiVsieXmmhBepL,3loy88Lp5qoTHhL8GhRfVZ,3y3brCCecHC3Db18aIOnny,67xBtV07CC73eFw7z5oCvU,3EtyEzMpfKSaoVhPunvbRV,1g3ErLqysBJ5EIGdYYMWFZ,2VUTPdW21gPVVTEmvdSwos,1xsP6AITcWNigBYBYVnVZw,7oqftogUN82Q7VNy2TmTJW,4pnIUqhf1AQMFrJPd4BbrT,5LeStoyvjAHpM52IYogOq0,333OkWOgbV6C8I5wRLfuSx,5LWprrbySabBAMm0aE447a,0QBRshHeQLEThdj2TqxM9n,01GmGxOPy22EdAZGC0X6q1 with Params: {'market': None} returned 429 due to API rate limit exceeded\n"
     ]
    },
    {
     "name": "stdout",
     "output_type": "stream",
     "text": [
      "Rate limit reached. Retrying after 5 seconds.\n"
     ]
    },
    {
     "name": "stderr",
     "output_type": "stream",
     "text": [
      "Processing songs:  78%|███████▊  | 290/373 [02:49<00:23,  3.55it/s]HTTP Error for GET to https://api.spotify.com/v1/tracks/?ids=39NDBdU5Xkm5pCFGa5kZtI,1wb7Mqon4o1ViLjaLV9f8U,06Vthiq8nNDuT5nOcch535,3Q33RhbyoFul9LdKKjticI,6IaieqiCVvsNvEt6Y7yOFa,32lItqlMi4LBhb4k0BaSaC,5p7GiBZNL1afJJDUrOA6C8,01z2fBGB8Hl3Jd3zXe4IXR,6B3zy3LOKHndqsviCr2z15,2dgrYdgguVZKeCsrVb9XEs,6dFn6my1sHK2bcf23GlHwM,1yYzuNd0KRyHVJ3NH8apBt,0WdR2AyLW1Drd3OUdwezM0,6pGuOWYOFDcSgmVvFWRWSv,6GnhWMhgJb7uyiiPEiEkDA,0SaYeGhSXN0dDWstyNTQ56,2jeWxoYEARpy0lGGahsKd5,5iUQMwxUPdJBFeGkePtM66,31M5m42C3EGlbydf9XB5to,66wkCYWlXzSTQAfnsPBptt with Params: {'market': None} returned 429 due to API rate limit exceeded\n"
     ]
    },
    {
     "name": "stdout",
     "output_type": "stream",
     "text": [
      "Rate limit reached. Retrying after 5 seconds.\n"
     ]
    },
    {
     "name": "stderr",
     "output_type": "stream",
     "text": [
      "Processing songs:  91%|█████████ | 338/373 [03:09<00:09,  3.89it/s]HTTP Error for GET to https://api.spotify.com/v1/artists/4kYGAK2zu9EAomwj3hXkXy with Params: {} returned 429 due to API rate limit exceeded\n"
     ]
    },
    {
     "name": "stdout",
     "output_type": "stream",
     "text": [
      "Rate limit reached. Retrying after 5 seconds.\n"
     ]
    },
    {
     "name": "stderr",
     "output_type": "stream",
     "text": [
      "Processing songs: 100%|██████████| 373/373 [03:25<00:00,  1.81it/s]"
     ]
    },
    {
     "name": "stdout",
     "output_type": "stream",
     "text": [
      "Genres fetched and saved to output_with_genres.csv\n"
     ]
    },
    {
     "name": "stderr",
     "output_type": "stream",
     "text": [
      "\n"
     ]
    }
   ],
   "source": [
    "genres = []\n",
    "artist_genre_cache = {}\n",
    "\n",
    "def get_genres_from_tracks(track_ids):\n",
    "    \"\"\"Fetch genres for multiple tracks using a batch request, with caching for artists.\"\"\"\n",
    "    batch_genres = []  # Collect genres for this batch only\n",
    "    try:\n",
    "        # Track information for multiple track IDs\n",
    "        response = sp.tracks(track_ids)\n",
    "        tracks_info = response['tracks']\n",
    "        \n",
    "        for track_info in tracks_info:\n",
    "            if track_info:  # Check for existence\n",
    "                artist_id = track_info['artists'][0]['id']\n",
    "                \n",
    "                # Check cache before making an API call\n",
    "                if artist_id in artist_genre_cache:\n",
    "                    batch_genres.append(artist_genre_cache[artist_id])\n",
    "                else:\n",
    "                    # Artist info is fetched for the genre\n",
    "                    artist_info = sp.artist(artist_id)\n",
    "                    genre = artist_info.get('genres', [])\n",
    "                    artist_genre_cache[artist_id] = genre\n",
    "                    batch_genres.append(genre)\n",
    "            else:\n",
    "                batch_genres.append(None)\n",
    "    except spotipy.exceptions.SpotifyException as e:\n",
    "        if e.http_status == 429:\n",
    "            handle_rate_limit()\n",
    "            return get_genres_from_tracks(track_ids)  # Retry after waiting\n",
    "        else:\n",
    "            print(f\"API error: {e}\")\n",
    "            batch_genres.extend([None] * len(track_ids))\n",
    "    except Exception as e:\n",
    "        print(f\"Error fetching genres for batch of track IDs {track_ids}: {e}\")\n",
    "        batch_genres.extend([None] * len(track_ids))\n",
    "    \n",
    "    genres.extend(batch_genres)  # Only extend `genres` once, after handling each batch\n",
    "\n",
    "# Rate limit handler\n",
    "def handle_rate_limit():\n",
    "    retry_after = 5  # Default wait time if retry-after is not provided\n",
    "    print(f\"Rate limit reached. Retrying after {retry_after} seconds.\")\n",
    "    time.sleep(retry_after)\n",
    "\n",
    "# Batches, to minimize API calls\n",
    "batch_size = 20  \n",
    "track_ids = data['id'].tolist()  \n",
    "\n",
    "for i in tqdm(range(0, len(track_ids), batch_size), desc=\"Processing songs\"):\n",
    "    batch = track_ids[i:i + batch_size]\n",
    "    get_genres_from_tracks(batch)\n",
    "\n",
    "# Adding the genres to the DataFrame and saving to a new CSV\n",
    "data['Genre'] = genres[:len(data)]  \n",
    "data.to_csv('output_with_genres.csv', index=False)\n",
    "\n",
    "print(\"Genres fetched and saved to output_with_genres.csv\")"
   ]
  },
  {
   "cell_type": "code",
   "execution_count": null,
   "id": "b8e337c1-00a2-48b0-8aaa-6a143d5b7d7b",
   "metadata": {},
   "outputs": [],
   "source": []
  }
 ],
 "metadata": {
  "kernelspec": {
   "display_name": "Python 3 (ipykernel)",
   "language": "python",
   "name": "python3"
  },
  "language_info": {
   "codemirror_mode": {
    "name": "ipython",
    "version": 3
   },
   "file_extension": ".py",
   "mimetype": "text/x-python",
   "name": "python",
   "nbconvert_exporter": "python",
   "pygments_lexer": "ipython3",
   "version": "3.12.3"
  }
 },
 "nbformat": 4,
 "nbformat_minor": 5
}
